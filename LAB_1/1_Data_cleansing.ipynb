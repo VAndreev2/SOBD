{
 "cells": [
  {
   "cell_type": "markdown",
   "metadata": {},
   "source": [
    "## Лабораторная работа № 1 \n",
    "## Выполнение разведочного анализа больших данных с использованием фреймворка Apache Spark"
   ]
  },
  {
   "cell_type": "markdown",
   "metadata": {},
   "source": [
    "### Часть 1\n",
    "\n",
    "В данной части работы рассмотрены:\n",
    "* загрузка данных из HDFS;\n",
    "* базовые преобразования данных;\n",
    "* загрузка преобразованных данных в таблицу `Apache Airflow`."
   ]
  },
  {
   "cell_type": "markdown",
   "metadata": {},
   "source": [
    "Подключим необходимые библиотеки."
   ]
  },
  {
   "cell_type": "code",
   "execution_count": 12,
   "metadata": {},
   "outputs": [],
   "source": [
    "import os\n",
    "from pyspark.sql import SparkSession, DataFrame\n",
    "from pyspark import SparkConf\n",
    "from pyspark.sql.functions import (\n",
    "    regexp_replace,\n",
    "    regexp_extract_all,\n",
    "    col,\n",
    "    lit\n",
    ")"
   ]
  },
  {
   "cell_type": "markdown",
   "metadata": {},
   "source": [
    "Сформируем объект конфигурации для `Apache Spark`, указав необходимые параметры."
   ]
  },
  {
   "cell_type": "code",
   "execution_count": 13,
   "metadata": {},
   "outputs": [],
   "source": [
    "    def create_spark_configuration() -> SparkConf:\n",
    "        \"\"\"\n",
    "        Создает и конфигурирует экземпляр SparkConf для приложения Spark.\n",
    "\n",
    "        Returns:\n",
    "            SparkConf: Настроенный экземпляр SparkConf.\n",
    "        \"\"\"\n",
    "        # Получаем имя пользователя\n",
    "        user_name = os.getenv(\"USER\")\n",
    "        \n",
    "        conf = SparkConf()\n",
    "        conf.setAppName(\"lab 1 Test\")\n",
    "        conf.setMaster(\"yarn\")\n",
    "        conf.set(\"spark.submit.deployMode\", \"client\")\n",
    "        conf.set(\"spark.executor.memory\", \"12g\")\n",
    "        conf.set(\"spark.executor.cores\", \"8\")\n",
    "        conf.set(\"spark.executor.instances\", \"2\")\n",
    "        conf.set(\"spark.driver.memory\", \"4g\")\n",
    "        conf.set(\"spark.driver.cores\", \"2\")\n",
    "        conf.set(\"spark.jars.packages\", \"org.apache.iceberg:iceberg-spark-runtime-3.5_2.12:1.6.0\")\n",
    "        conf.set(\"spark.sql.extensions\", \"org.apache.iceberg.spark.extensions.IcebergSparkSessionExtensions\")\n",
    "        conf.set(\"spark.sql.catalog.spark_catalog\", \"org.apache.iceberg.spark.SparkCatalog\")\n",
    "        conf.set(\"spark.sql.catalog.spark_catalog.type\", \"hadoop\")\n",
    "        conf.set(\"spark.sql.catalog.spark_catalog.warehouse\", f\"hdfs:///user/{user_name}/warehouse\")\n",
    "        conf.set(\"spark.sql.catalog.spark_catalog.io-impl\", \"org.apache.iceberg.hadoop.HadoopFileIO\")\n",
    "\n",
    "        return conf"
   ]
  },
  {
   "cell_type": "markdown",
   "metadata": {},
   "source": [
    "Создаём сам объект конфигурации."
   ]
  },
  {
   "cell_type": "code",
   "execution_count": 14,
   "metadata": {},
   "outputs": [],
   "source": [
    "conf = create_spark_configuration()"
   ]
  },
  {
   "cell_type": "markdown",
   "metadata": {},
   "source": [
    "Создаём и выводим на экран сессию `Apache Spark`. В процессе создания сессии происходит подключение к кластеру `Apache Hadoop`, что может занять некоторое время."
   ]
  },
  {
   "cell_type": "code",
   "execution_count": 15,
   "metadata": {},
   "outputs": [
    {
     "name": "stderr",
     "output_type": "stream",
     "text": [
      "24/10/19 20:02:43 WARN SparkSession: Using an existing Spark session; only runtime SQL configurations will take effect.\n"
     ]
    },
    {
     "data": {
      "text/html": [
       "\n",
       "            <div>\n",
       "                <p><b>SparkSession - in-memory</b></p>\n",
       "                \n",
       "        <div>\n",
       "            <p><b>SparkContext</b></p>\n",
       "\n",
       "            <p><a href=\"http://node32.cluster:4040\">Spark UI</a></p>\n",
       "\n",
       "            <dl>\n",
       "              <dt>Version</dt>\n",
       "                <dd><code>v3.5.2</code></dd>\n",
       "              <dt>Master</dt>\n",
       "                <dd><code>yarn</code></dd>\n",
       "              <dt>AppName</dt>\n",
       "                <dd><code>lab 1 Test</code></dd>\n",
       "            </dl>\n",
       "        </div>\n",
       "        \n",
       "            </div>\n",
       "        "
      ],
      "text/plain": [
       "<pyspark.sql.session.SparkSession at 0x7fb7cb0c2e10>"
      ]
     },
     "execution_count": 15,
     "metadata": {},
     "output_type": "execute_result"
    }
   ],
   "source": [
    "spark = SparkSession.builder.config(conf=conf).getOrCreate()\n",
    "spark"
   ]
  },
  {
   "cell_type": "markdown",
   "metadata": {},
   "source": [
    "Для исследования будем использовать датасет `\"Flight Prices\"`, расположенный на платформе `Kaggle` по адресу https://www.kaggle.com/datasets/dilwong/flightprices.\n",
    "\n",
    "Данный датасет уже загружен в `HDFS` по адресу: `hdfs:///user/user3/andreev-directory/itineraries.csv`\n",
    "\n",
    "Указываем путь в `HDFS` для файла с данными."
   ]
  },
  {
   "cell_type": "code",
   "execution_count": 16,
   "metadata": {},
   "outputs": [],
   "source": [
    "path = \"hdfs:///user/user3/andreev-directory/itineraries.csv\""
   ]
  },
  {
   "cell_type": "markdown",
   "metadata": {},
   "source": [
    "Заполняем датафрейм данными из файла."
   ]
  },
  {
   "cell_type": "code",
   "execution_count": 17,
   "metadata": {},
   "outputs": [],
   "source": [
    "df = (spark.read.format(\"csv\")\n",
    "      .option(\"header\", \"true\")\n",
    "      .load(path)\n",
    ")"
   ]
  },
  {
   "cell_type": "markdown",
   "metadata": {},
   "source": [
    "Выводим фрагмент датафрейма на экран."
   ]
  },
  {
   "cell_type": "code",
   "execution_count": 18,
   "metadata": {},
   "outputs": [
    {
     "name": "stdout",
     "output_type": "stream",
     "text": [
      "+--------------------+----------+----------+---------------+------------------+-------------+--------------+-----------+--------------+------------+---------+--------+---------+--------------+-------------------+---------------------------------+------------------------+-------------------------------+----------------------+--------------------------+----------------------------+--------------------+-------------------+----------------------------+-------------------------+----------------+-----------------+\n",
      "|               legId|searchDate|flightDate|startingAirport|destinationAirport|fareBasisCode|travelDuration|elapsedDays|isBasicEconomy|isRefundable|isNonStop|baseFare|totalFare|seatsRemaining|totalTravelDistance|segmentsDepartureTimeEpochSeconds|segmentsDepartureTimeRaw|segmentsArrivalTimeEpochSeconds|segmentsArrivalTimeRaw|segmentsArrivalAirportCode|segmentsDepartureAirportCode| segmentsAirlineName|segmentsAirlineCode|segmentsEquipmentDescription|segmentsDurationInSeconds|segmentsDistance|segmentsCabinCode|\n",
      "+--------------------+----------+----------+---------------+------------------+-------------+--------------+-----------+--------------+------------+---------+--------+---------+--------------+-------------------+---------------------------------+------------------------+-------------------------------+----------------------+--------------------------+----------------------------+--------------------+-------------------+----------------------------+-------------------------+----------------+-----------------+\n",
      "|9ca0e81111c683bec...|2022-04-16|2022-04-17|            ATL|               BOS|     LA0NX0MC|       PT2H29M|          0|         False|       False|     True|  217.67|   248.60|             9|                947|                       1650214620|    2022-04-17T12:57:...|                     1650223560|  2022-04-17T15:26:...|                       BOS|                         ATL|               Delta|                 DL|                 Airbus A321|                     8940|             947|            coach|\n",
      "|98685953630e772a0...|2022-04-16|2022-04-17|            ATL|               BOS|     LA0NX0MC|       PT2H30M|          0|         False|       False|     True|  217.67|   248.60|             4|                947|                       1650191400|    2022-04-17T06:30:...|                     1650200400|  2022-04-17T09:00:...|                       BOS|                         ATL|               Delta|                 DL|                 Airbus A321|                     9000|             947|            coach|\n",
      "|98d90cbc32bfbb05c...|2022-04-16|2022-04-17|            ATL|               BOS|     LA0NX0MC|       PT2H30M|          0|         False|       False|     True|  217.67|   248.60|             9|                947|                       1650209700|    2022-04-17T11:35:...|                     1650218700|  2022-04-17T14:05:...|                       BOS|                         ATL|               Delta|                 DL|              Boeing 757-200|                     9000|             947|            coach|\n",
      "|969a269d38eae583f...|2022-04-16|2022-04-17|            ATL|               BOS|     LA0NX0MC|       PT2H32M|          0|         False|       False|     True|  217.67|   248.60|             8|                947|                       1650218340|    2022-04-17T13:59:...|                     1650227460|  2022-04-17T16:31:...|                       BOS|                         ATL|               Delta|                 DL|                 Airbus A321|                     9120|             947|            coach|\n",
      "|980370cf27c89b40d...|2022-04-16|2022-04-17|            ATL|               BOS|     LA0NX0MC|       PT2H34M|          0|         False|       False|     True|  217.67|   248.60|             9|                947|                       1650203940|    2022-04-17T09:59:...|                     1650213180|  2022-04-17T12:33:...|                       BOS|                         ATL|               Delta|                 DL|                 Airbus A321|                     9240|             947|            coach|\n",
      "|79eda9f841e226a1e...|2022-04-16|2022-04-17|            ATL|               BOS|     VH0AUEL1|       PT2H38M|          0|         False|       False|     True|  217.67|   248.60|             7|                947|                       1650206700|    2022-04-17T10:45:...|                     1650216180|  2022-04-17T13:23:...|                       BOS|                         ATL|     JetBlue Airways|                 B6|                        NULL|                     9480|             947|            coach|\n",
      "|9335fae376c38bb61...|2022-04-16|2022-04-17|            ATL|               BOS|     V0AJZNN1|       PT4H12M|          0|         False|       False|    False|  213.02|   251.10|             3|                956|             1650198000||16502...|    2022-04-17T08:20:...|           1650203400||16502...|  2022-04-17T09:50:...|                  CLT||BOS|                    ATL||CLT|American Airlines...|             AA||AA|        Airbus A320||Airb...|               5400||7500|        228||728|     coach||coach|\n",
      "|3904bf87f2d1daf33...|2022-04-16|2022-04-17|            ATL|               BOS|     V0AJZNN1|       PT5H18M|          0|         False|       False|    False|  213.02|   251.10|             3|                956|             1650198000||16502...|    2022-04-17T08:20:...|           1650203400||16502...|  2022-04-17T09:50:...|                  CLT||BOS|                    ATL||CLT|American Airlines...|             AA||AA|        Airbus A320||Boei...|               5400||8280|        228||728|     coach||coach|\n",
      "|d93988734c44a3c07...|2022-04-16|2022-04-17|            ATL|               BOS|     V0AJZNN1|       PT5H32M|          0|         False|       False|    False|  213.02|   251.10|             7|                956|             1650193200||16502...|    2022-04-17T07:00:...|           1650198060||16502...|  2022-04-17T08:21:...|                  CLT||BOS|                    ATL||CLT|American Airlines...|             AA||AA|        Airbus A319||Airb...|               4860||7500|        228||728|     coach||coach|\n",
      "|562e7d5dd6ecbf150...|2022-04-16|2022-04-17|            ATL|               BOS|     V0AJZNN1|       PT6H38M|          0|         False|       False|    False|  213.02|   251.10|             7|                956|             1650193200||16502...|    2022-04-17T07:00:...|           1650198060||16502...|  2022-04-17T08:21:...|                  CLT||BOS|                    ATL||CLT|American Airlines...|             AA||AA|        Airbus A319||Boei...|               4860||8280|        228||728|     coach||coach|\n",
      "|c38a6e4b807d15541...|2022-04-16|2022-04-17|            ATL|               BOS|     VAA0AKEN|       PT4H46M|          0|         False|       False|    False|  213.02|   252.60|             1|                947|             1650187800||16501...|    2022-04-17T05:30:...|           1650194280||16502...|  2022-04-17T07:18:...|                  IAD||BOS|                    ATL||IAD|      United||United|             UA||UA|        Airbus A319||Boei...|               6480||5940|        541||406|     coach||coach|\n",
      "|f66d72ba3a5265766...|2022-04-16|2022-04-17|            ATL|               BOS|     V0AJZNN1|       PT5H45M|          0|         False|       False|    False|  213.02|   252.60|             3|               1462|             1650220740||16502...|    2022-04-17T14:39:...|           1650228840||16502...|  2022-04-17T15:54:...|                  ORD||BOS|                    ATL||ORD|American Airlines...|             AA||AA|        Embraer 175||Boei...|               8100||8340|        600||862|     coach||coach|\n",
      "|e7c4054e85cca9bc7...|2022-04-16|2022-04-17|            ATL|               BOS|     V0AJZNN1|       PT5H59M|          0|         False|       False|    False|  213.02|   252.60|             5|               1462|             1650232800||16502...|    2022-04-17T18:00:...|           1650240660||16502...|  2022-04-17T19:11:...|                  ORD||BOS|                    ATL||ORD|American Airlines...|             AA||AA|        Embraer 175||Boei...|               7860||8640|        600||862|     coach||coach|\n",
      "|5fa8c0f8b25eb24bf...|2022-04-16|2022-04-17|            ATL|               BOS|     V0AJZNN1|       PT7H18M|          0|         False|       False|    False|  213.02|   252.60|             3|               1462|             1650220740||16502...|    2022-04-17T14:39:...|           1650228840||16502...|  2022-04-17T15:54:...|                  ORD||BOS|                    ATL||ORD|American Airlines...|             AA||AA|        Embraer 175||Airb...|               8100||7920|        600||862|     coach||coach|\n",
      "|948d26b3e5658762c...|2022-04-16|2022-04-17|            ATL|               BOS|     VAA0AKEN|       PT8H10M|          0|         False|       False|    False|  213.02|   252.60|             2|               1462|             1650190200||16502...|    2022-04-17T06:10:...|           1650198000||16502...|  2022-04-17T07:20:...|                  ORD||BOS|                    ATL||ORD|      United||United|             UA||UA|        Embraer 175 (Enha...|               7800||8640|        600||862|     coach||coach|\n",
      "|cb345693479e84838...|2022-04-16|2022-04-17|            ATL|               BOS|          VNR|       PT5H39M|          0|         False|       False|    False|  183.00|   290.58|             0|               NULL|             1650187560||16501...|    2022-04-17T05:26:...|           1650194400||16502...|  2022-04-17T07:20:...|                  FLL||BOS|                    ATL||FLL|Spirit Airlines||...|             NK||NK|        AIRBUS INDUSTRIE ...|              6840||11100|      None||None|     coach||coach|\n",
      "|e1b95e4e6c997517f...|2022-04-16|2022-04-17|            ATL|               BOS|     KH0AUEY5|       PT2H38M|          0|         False|       False|     True|  265.58|   300.10|             7|                947|                       1650206700|    2022-04-17T10:45:...|                     1650216180|  2022-04-17T13:23:...|                       BOS|                         ATL|   American Airlines|                 AA|                        NULL|                     9480|             947|            coach|\n",
      "|eaf033a044596f0a7...|2022-04-16|2022-04-17|            ATL|               BOS|     L0AJZNN1|       PT4H17M|          0|         False|       False|    False|  260.47|   302.11|             1|                956|             1650233700||16502...|    2022-04-17T18:15:...|           1650238620||16502...|  2022-04-17T19:37:...|                  CLT||BOS|                    ATL||CLT|American Airlines...|             AA||AA|        Canadian Regional...|               4920||7620|        228||728|     coach||coach|\n",
      "|721d9a2f66fe479e7...|2022-04-16|2022-04-17|            ATL|               BOS|     L0AJZNN1|       PT4H36M|          0|         False|       False|    False|  260.47|   302.11|             1|                956|             1650207720||16502...|    2022-04-17T11:02:...|           1650212880||16502...|  2022-04-17T12:28:...|                  CLT||BOS|                    ATL||CLT|American Airlines...|             AA||AA|        Canadair Regional...|               5160||7860|        228||728|     coach||coach|\n",
      "|a9f012defb9227f69...|2022-04-16|2022-04-17|            ATL|               BOS|     L0AJZNN1|       PT4H45M|          0|         False|       False|    False|  260.47|   302.11|             1|                956|             1650226680||16502...|    2022-04-17T16:18:...|           1650230760||16502...|  2022-04-17T17:26:...|                  CLT||BOS|                    ATL||CLT|American Airlines...|             AA||AA|        Airbus A319||Boei...|               4080||7860|        228||728|     coach||coach|\n",
      "+--------------------+----------+----------+---------------+------------------+-------------+--------------+-----------+--------------+------------+---------+--------+---------+--------------+-------------------+---------------------------------+------------------------+-------------------------------+----------------------+--------------------------+----------------------------+--------------------+-------------------+----------------------------+-------------------------+----------------+-----------------+\n",
      "only showing top 20 rows\n",
      "\n"
     ]
    }
   ],
   "source": [
    "df.show()"
   ]
  },
  {
   "cell_type": "markdown",
   "metadata": {},
   "source": [
    "Очевидно, что в целях сохранения ясности изложения и сокращения расчетного времени имеет смысл рассматривать не все столбцы датасета. Оставим следующие колонки, удалив остальные:\n",
    "\n",
    "| Название столбца  | Расшифровка |\n",
    "| ------------- | ------------- |\n",
    "| legId             | Идентификационный номер рейса  |\n",
    "| startingAirport   | Аэропорт вылета  |\n",
    "| destinationAirport | Аэропорт назначения |\n",
    "| isRefundable      | Признак возврата билета |\n",
    "| baseFare     | Базовая цена билета (без сборов и налогов) |\n",
    "| totalFare         | Общая стоимость билета (включая сборы и налоги) |\n",
    "| segmentsDepartureTimeEpochSeconds      | Время вылета сегмента рейса в формате Unix Epoch (секунды с 1970 года) |\n",
    "| segmentsAirlineName            | Название авиакомпании |\n",
    "| segmentsEquipmentDescription         | Описание самолета, выполняющего сегмент рейса |\n",
    "| segmentsDurationInSeconds     | Длительность сегмента рейса в секундах |\n",
    "| segmentsDistance   | Расстояние сегмента рейса |\n",
    "| segmentsCabinCode           | Код класса обслуживания |"
   ]
  },
  {
   "cell_type": "code",
   "execution_count": 19,
   "metadata": {},
   "outputs": [],
   "source": [
    "df = df.select(\n",
    "    \"legId\", \"startingAirport\", \"destinationAirport\", \"isRefundable\",\n",
    "     \"baseFare\", \"totalFare\", \"segmentsDepartureTimeEpochSeconds\", \"segmentsAirlineName\",\n",
    "     \"segmentsEquipmentDescription\", \"segmentsDurationInSeconds\", \"segmentsDistance\",\n",
    "     \"segmentsCabinCode\"\n",
    ")"
   ]
  },
  {
   "cell_type": "code",
   "execution_count": 20,
   "metadata": {},
   "outputs": [
    {
     "name": "stdout",
     "output_type": "stream",
     "text": [
      "+--------------------+---------------+------------------+------------+--------+---------+---------------------------------+--------------------+----------------------------+-------------------------+----------------+-----------------+\n",
      "|               legId|startingAirport|destinationAirport|isRefundable|baseFare|totalFare|segmentsDepartureTimeEpochSeconds| segmentsAirlineName|segmentsEquipmentDescription|segmentsDurationInSeconds|segmentsDistance|segmentsCabinCode|\n",
      "+--------------------+---------------+------------------+------------+--------+---------+---------------------------------+--------------------+----------------------------+-------------------------+----------------+-----------------+\n",
      "|9ca0e81111c683bec...|            ATL|               BOS|       False|  217.67|   248.60|                       1650214620|               Delta|                 Airbus A321|                     8940|             947|            coach|\n",
      "|98685953630e772a0...|            ATL|               BOS|       False|  217.67|   248.60|                       1650191400|               Delta|                 Airbus A321|                     9000|             947|            coach|\n",
      "|98d90cbc32bfbb05c...|            ATL|               BOS|       False|  217.67|   248.60|                       1650209700|               Delta|              Boeing 757-200|                     9000|             947|            coach|\n",
      "|969a269d38eae583f...|            ATL|               BOS|       False|  217.67|   248.60|                       1650218340|               Delta|                 Airbus A321|                     9120|             947|            coach|\n",
      "|980370cf27c89b40d...|            ATL|               BOS|       False|  217.67|   248.60|                       1650203940|               Delta|                 Airbus A321|                     9240|             947|            coach|\n",
      "|79eda9f841e226a1e...|            ATL|               BOS|       False|  217.67|   248.60|                       1650206700|     JetBlue Airways|                        NULL|                     9480|             947|            coach|\n",
      "|9335fae376c38bb61...|            ATL|               BOS|       False|  213.02|   251.10|             1650198000||16502...|American Airlines...|        Airbus A320||Airb...|               5400||7500|        228||728|     coach||coach|\n",
      "|3904bf87f2d1daf33...|            ATL|               BOS|       False|  213.02|   251.10|             1650198000||16502...|American Airlines...|        Airbus A320||Boei...|               5400||8280|        228||728|     coach||coach|\n",
      "|d93988734c44a3c07...|            ATL|               BOS|       False|  213.02|   251.10|             1650193200||16502...|American Airlines...|        Airbus A319||Airb...|               4860||7500|        228||728|     coach||coach|\n",
      "|562e7d5dd6ecbf150...|            ATL|               BOS|       False|  213.02|   251.10|             1650193200||16502...|American Airlines...|        Airbus A319||Boei...|               4860||8280|        228||728|     coach||coach|\n",
      "|c38a6e4b807d15541...|            ATL|               BOS|       False|  213.02|   252.60|             1650187800||16501...|      United||United|        Airbus A319||Boei...|               6480||5940|        541||406|     coach||coach|\n",
      "|f66d72ba3a5265766...|            ATL|               BOS|       False|  213.02|   252.60|             1650220740||16502...|American Airlines...|        Embraer 175||Boei...|               8100||8340|        600||862|     coach||coach|\n",
      "|e7c4054e85cca9bc7...|            ATL|               BOS|       False|  213.02|   252.60|             1650232800||16502...|American Airlines...|        Embraer 175||Boei...|               7860||8640|        600||862|     coach||coach|\n",
      "|5fa8c0f8b25eb24bf...|            ATL|               BOS|       False|  213.02|   252.60|             1650220740||16502...|American Airlines...|        Embraer 175||Airb...|               8100||7920|        600||862|     coach||coach|\n",
      "|948d26b3e5658762c...|            ATL|               BOS|       False|  213.02|   252.60|             1650190200||16502...|      United||United|        Embraer 175 (Enha...|               7800||8640|        600||862|     coach||coach|\n",
      "|cb345693479e84838...|            ATL|               BOS|       False|  183.00|   290.58|             1650187560||16501...|Spirit Airlines||...|        AIRBUS INDUSTRIE ...|              6840||11100|      None||None|     coach||coach|\n",
      "|e1b95e4e6c997517f...|            ATL|               BOS|       False|  265.58|   300.10|                       1650206700|   American Airlines|                        NULL|                     9480|             947|            coach|\n",
      "|eaf033a044596f0a7...|            ATL|               BOS|       False|  260.47|   302.11|             1650233700||16502...|American Airlines...|        Canadian Regional...|               4920||7620|        228||728|     coach||coach|\n",
      "|721d9a2f66fe479e7...|            ATL|               BOS|       False|  260.47|   302.11|             1650207720||16502...|American Airlines...|        Canadair Regional...|               5160||7860|        228||728|     coach||coach|\n",
      "|a9f012defb9227f69...|            ATL|               BOS|       False|  260.47|   302.11|             1650226680||16502...|American Airlines...|        Airbus A319||Boei...|               4080||7860|        228||728|     coach||coach|\n",
      "+--------------------+---------------+------------------+------------+--------+---------+---------------------------------+--------------------+----------------------------+-------------------------+----------------+-----------------+\n",
      "only showing top 20 rows\n",
      "\n"
     ]
    }
   ],
   "source": [
    "df.show()"
   ]
  },
  {
   "cell_type": "markdown",
   "metadata": {},
   "source": [
    "Выведем на экран метаданные датасета."
   ]
  },
  {
   "cell_type": "code",
   "execution_count": 21,
   "metadata": {},
   "outputs": [
    {
     "name": "stdout",
     "output_type": "stream",
     "text": [
      "root\n",
      " |-- legId: string (nullable = true)\n",
      " |-- startingAirport: string (nullable = true)\n",
      " |-- destinationAirport: string (nullable = true)\n",
      " |-- isRefundable: string (nullable = true)\n",
      " |-- baseFare: string (nullable = true)\n",
      " |-- totalFare: string (nullable = true)\n",
      " |-- segmentsDepartureTimeEpochSeconds: string (nullable = true)\n",
      " |-- segmentsAirlineName: string (nullable = true)\n",
      " |-- segmentsEquipmentDescription: string (nullable = true)\n",
      " |-- segmentsDurationInSeconds: string (nullable = true)\n",
      " |-- segmentsDistance: string (nullable = true)\n",
      " |-- segmentsCabinCode: string (nullable = true)\n",
      "\n"
     ]
    }
   ],
   "source": [
    "df.printSchema()"
   ]
  },
  {
   "cell_type": "markdown",
   "metadata": {},
   "source": [
    "Видно, что все столбцы датасета содержат строковый тип данных, что не соответствует ожиданиям. Выполним преобразования типов данных некоторых столбцов."
   ]
  },
  {
   "cell_type": "code",
   "execution_count": 22,
   "metadata": {},
   "outputs": [],
   "source": [
    "def transform_dataframe(data: DataFrame) -> DataFrame:\n",
    "    \"\"\"\n",
    "    Преобразует столбцы DataFrame в указанные типы данных и\n",
    "    выполняет необходимые преобразования.\n",
    "\n",
    "    Args:\n",
    "        data (DataFrame): Исходный DataFrame.\n",
    "\n",
    "    Returns:\n",
    "        DataFrame: Преобразованный DataFrame.\n",
    "    \"\"\"\n",
    "    # Преобразуем столбцы в соответствующие типы данных\n",
    "    data = data.withColumn(\"isRefundable\",\n",
    "                           col(\"isRefundable\").cast(\"Boolean\"))\n",
    "    data = data.withColumn(\"baseFare\",\n",
    "                           col(\"baseFare\").cast(\"Float\"))\n",
    "    data = data.withColumn(\"totalFare\",\n",
    "                           col(\"totalFare\").cast(\"Float\"))\n",
    "    data = data.withColumn(\"segmentsDepartureTimeEpochSeconds\",\n",
    "                           col(\"segmentsDepartureTimeEpochSeconds\").cast(\"Integer\"))\n",
    "\n",
    "    return data"
   ]
  },
  {
   "cell_type": "code",
   "execution_count": 23,
   "metadata": {},
   "outputs": [],
   "source": [
    "df = transform_dataframe(df)"
   ]
  },
  {
   "cell_type": "code",
   "execution_count": 24,
   "metadata": {},
   "outputs": [
    {
     "name": "stdout",
     "output_type": "stream",
     "text": [
      "+--------------------+---------------+------------------+------------+--------+---------+---------------------------------+--------------------+----------------------------+-------------------------+----------------+-----------------+\n",
      "|               legId|startingAirport|destinationAirport|isRefundable|baseFare|totalFare|segmentsDepartureTimeEpochSeconds| segmentsAirlineName|segmentsEquipmentDescription|segmentsDurationInSeconds|segmentsDistance|segmentsCabinCode|\n",
      "+--------------------+---------------+------------------+------------+--------+---------+---------------------------------+--------------------+----------------------------+-------------------------+----------------+-----------------+\n",
      "|9ca0e81111c683bec...|            ATL|               BOS|       false|  217.67|    248.6|                       1650214620|               Delta|                 Airbus A321|                     8940|             947|            coach|\n",
      "|98685953630e772a0...|            ATL|               BOS|       false|  217.67|    248.6|                       1650191400|               Delta|                 Airbus A321|                     9000|             947|            coach|\n",
      "|98d90cbc32bfbb05c...|            ATL|               BOS|       false|  217.67|    248.6|                       1650209700|               Delta|              Boeing 757-200|                     9000|             947|            coach|\n",
      "|969a269d38eae583f...|            ATL|               BOS|       false|  217.67|    248.6|                       1650218340|               Delta|                 Airbus A321|                     9120|             947|            coach|\n",
      "|980370cf27c89b40d...|            ATL|               BOS|       false|  217.67|    248.6|                       1650203940|               Delta|                 Airbus A321|                     9240|             947|            coach|\n",
      "|79eda9f841e226a1e...|            ATL|               BOS|       false|  217.67|    248.6|                       1650206700|     JetBlue Airways|                        NULL|                     9480|             947|            coach|\n",
      "|9335fae376c38bb61...|            ATL|               BOS|       false|  213.02|    251.1|                             NULL|American Airlines...|        Airbus A320||Airb...|               5400||7500|        228||728|     coach||coach|\n",
      "|3904bf87f2d1daf33...|            ATL|               BOS|       false|  213.02|    251.1|                             NULL|American Airlines...|        Airbus A320||Boei...|               5400||8280|        228||728|     coach||coach|\n",
      "|d93988734c44a3c07...|            ATL|               BOS|       false|  213.02|    251.1|                             NULL|American Airlines...|        Airbus A319||Airb...|               4860||7500|        228||728|     coach||coach|\n",
      "|562e7d5dd6ecbf150...|            ATL|               BOS|       false|  213.02|    251.1|                             NULL|American Airlines...|        Airbus A319||Boei...|               4860||8280|        228||728|     coach||coach|\n",
      "|c38a6e4b807d15541...|            ATL|               BOS|       false|  213.02|    252.6|                             NULL|      United||United|        Airbus A319||Boei...|               6480||5940|        541||406|     coach||coach|\n",
      "|f66d72ba3a5265766...|            ATL|               BOS|       false|  213.02|    252.6|                             NULL|American Airlines...|        Embraer 175||Boei...|               8100||8340|        600||862|     coach||coach|\n",
      "|e7c4054e85cca9bc7...|            ATL|               BOS|       false|  213.02|    252.6|                             NULL|American Airlines...|        Embraer 175||Boei...|               7860||8640|        600||862|     coach||coach|\n",
      "|5fa8c0f8b25eb24bf...|            ATL|               BOS|       false|  213.02|    252.6|                             NULL|American Airlines...|        Embraer 175||Airb...|               8100||7920|        600||862|     coach||coach|\n",
      "|948d26b3e5658762c...|            ATL|               BOS|       false|  213.02|    252.6|                             NULL|      United||United|        Embraer 175 (Enha...|               7800||8640|        600||862|     coach||coach|\n",
      "|cb345693479e84838...|            ATL|               BOS|       false|   183.0|   290.58|                             NULL|Spirit Airlines||...|        AIRBUS INDUSTRIE ...|              6840||11100|      None||None|     coach||coach|\n",
      "|e1b95e4e6c997517f...|            ATL|               BOS|       false|  265.58|    300.1|                       1650206700|   American Airlines|                        NULL|                     9480|             947|            coach|\n",
      "|eaf033a044596f0a7...|            ATL|               BOS|       false|  260.47|   302.11|                             NULL|American Airlines...|        Canadian Regional...|               4920||7620|        228||728|     coach||coach|\n",
      "|721d9a2f66fe479e7...|            ATL|               BOS|       false|  260.47|   302.11|                             NULL|American Airlines...|        Canadair Regional...|               5160||7860|        228||728|     coach||coach|\n",
      "|a9f012defb9227f69...|            ATL|               BOS|       false|  260.47|   302.11|                             NULL|American Airlines...|        Airbus A319||Boei...|               4080||7860|        228||728|     coach||coach|\n",
      "+--------------------+---------------+------------------+------------+--------+---------+---------------------------------+--------------------+----------------------------+-------------------------+----------------+-----------------+\n",
      "only showing top 20 rows\n",
      "\n"
     ]
    }
   ],
   "source": [
    "df.show()"
   ]
  },
  {
   "cell_type": "code",
   "execution_count": 25,
   "metadata": {},
   "outputs": [
    {
     "name": "stdout",
     "output_type": "stream",
     "text": [
      "root\n",
      " |-- legId: string (nullable = true)\n",
      " |-- startingAirport: string (nullable = true)\n",
      " |-- destinationAirport: string (nullable = true)\n",
      " |-- isRefundable: boolean (nullable = true)\n",
      " |-- baseFare: float (nullable = true)\n",
      " |-- totalFare: float (nullable = true)\n",
      " |-- segmentsDepartureTimeEpochSeconds: integer (nullable = true)\n",
      " |-- segmentsAirlineName: string (nullable = true)\n",
      " |-- segmentsEquipmentDescription: string (nullable = true)\n",
      " |-- segmentsDurationInSeconds: string (nullable = true)\n",
      " |-- segmentsDistance: string (nullable = true)\n",
      " |-- segmentsCabinCode: string (nullable = true)\n",
      "\n"
     ]
    }
   ],
   "source": [
    "df.printSchema()"
   ]
  },
  {
   "cell_type": "markdown",
   "metadata": {},
   "source": [
    "Видно, что теперь столбцы датафрейма содержат значения корректных типов.\n",
    "\n",
    "Полученный датафрейм сохраним для дальнейшего использования. Сохранение выполним в таблицу `Apache Iceberg`. \n",
    "\n",
    "`Apache Iceberg` — это поддерживающий высокую производительность табличный формат для больших данных.\n",
    "\n",
    "Сначала создадим базу данных, в которой будет расположена таблица. Во избежание путаницы, **каждую таблицу следует называть с использованием фамилии студента**."
   ]
  },
  {
   "cell_type": "code",
   "execution_count": 26,
   "metadata": {},
   "outputs": [],
   "source": [
    "database_name = \"andreev_database_new\""
   ]
  },
  {
   "cell_type": "markdown",
   "metadata": {},
   "source": [
    "Создадим инструкцию SQL для добавления базы данных в каталог `Apache Spark`."
   ]
  },
  {
   "cell_type": "code",
   "execution_count": 27,
   "metadata": {},
   "outputs": [],
   "source": [
    "create_database_sql = f\"\"\"\n",
    "CREATE DATABASE IF NOT EXISTS spark_catalog.{database_name}\n",
    "\"\"\""
   ]
  },
  {
   "cell_type": "code",
   "execution_count": 28,
   "metadata": {},
   "outputs": [
    {
     "data": {
      "text/plain": [
       "DataFrame[]"
      ]
     },
     "execution_count": 28,
     "metadata": {},
     "output_type": "execute_result"
    }
   ],
   "source": [
    "spark.sql(create_database_sql)"
   ]
  },
  {
   "cell_type": "markdown",
   "metadata": {},
   "source": [
    "Установим созданную базу данных как текущую."
   ]
  },
  {
   "cell_type": "code",
   "execution_count": 29,
   "metadata": {},
   "outputs": [],
   "source": [
    "spark.catalog.setCurrentDatabase(database_name)"
   ]
  },
  {
   "cell_type": "markdown",
   "metadata": {},
   "source": [
    "И, наконец, записываем преобразованный датафрейм в таблицу `sobd_lab1_table`."
   ]
  },
  {
   "cell_type": "code",
   "execution_count": 30,
   "metadata": {},
   "outputs": [
    {
     "name": "stderr",
     "output_type": "stream",
     "text": [
      "                                                                                \r"
     ]
    }
   ],
   "source": [
    "# Сохранение DataFrame в виде таблицы\n",
    "df.writeTo(\"sobd_lab1_table\").using(\"iceberg\").create()"
   ]
  },
  {
   "cell_type": "markdown",
   "metadata": {},
   "source": [
    "После успешной записи можно посмотреть, какие таблицы входят в базу данных."
   ]
  },
  {
   "cell_type": "code",
   "execution_count": 31,
   "metadata": {},
   "outputs": [
    {
     "name": "stdout",
     "output_type": "stream",
     "text": [
      "sobd_lab1_table\n"
     ]
    }
   ],
   "source": [
    "for table in spark.catalog.listTables():\n",
    "    print(table.name)"
   ]
  },
  {
   "cell_type": "markdown",
   "metadata": {},
   "source": [
    "Обратите внимание, что при необходимости созданные базу данных и таблицу можно удалить следующими командами."
   ]
  },
  {
   "cell_type": "code",
   "execution_count": 32,
   "metadata": {},
   "outputs": [],
   "source": [
    "#spark.sql(\"DROP TABLE spark_catalog.andreev_database_new.sobd_lab1_table\")\n",
    "#spark.sql(\"DROP DATABASE spark_catalog.andreev_database_new\")"
   ]
  },
  {
   "cell_type": "markdown",
   "metadata": {},
   "source": [
    "После успешной записи таблицы останавливаем сессию `Apache Spark`."
   ]
  },
  {
   "cell_type": "code",
   "execution_count": 33,
   "metadata": {},
   "outputs": [],
   "source": [
    "spark.stop()"
   ]
  }
 ],
 "metadata": {
  "kernelspec": {
   "display_name": "Python 3",
   "language": "python",
   "name": "python3"
  },
  "language_info": {
   "codemirror_mode": {
    "name": "ipython",
    "version": 3
   },
   "file_extension": ".py",
   "mimetype": "text/x-python",
   "name": "python",
   "nbconvert_exporter": "python",
   "pygments_lexer": "ipython3",
   "version": "3.11.9"
  }
 },
 "nbformat": 4,
 "nbformat_minor": 2
}
